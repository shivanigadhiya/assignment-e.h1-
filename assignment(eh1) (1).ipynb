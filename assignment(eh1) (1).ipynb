{
 "cells": [
  {
   "cell_type": "markdown",
   "id": "6482a75c-72cf-480f-8627-68faea5b5013",
   "metadata": {},
   "source": [
    "Q1. What is an exception in python? Write a difference between Exception and Syntax errors."
   ]
  },
  {
   "cell_type": "markdown",
   "id": "789b14e2-8e8e-43a0-9a22-7af966d0251e",
   "metadata": {},
   "source": [
    "An error is an issue in a program that prevents the program from completing its task. In comparison, an exception is a condition that interrupts the normal flow of the program."
   ]
  },
  {
   "cell_type": "markdown",
   "id": "99207762-2987-4931-924b-4e5d2f4174cb",
   "metadata": {},
   "source": [
    "Q2. What happenes when exception is not handled? Explain with example."
   ]
  },
  {
   "cell_type": "markdown",
   "id": "4d3c1e37-181d-4311-9e51-60214a649b73",
   "metadata": {},
   "source": [
    "When an exception occurred, if you don't handle it, the program terminates abruptly and the code past the line that caused the exception will not get executed."
   ]
  },
  {
   "cell_type": "markdown",
   "id": "20913728-daaa-495e-a61b-d046a7c5240b",
   "metadata": {},
   "source": [
    "Q3.Which python statements are used to catch and handle exception? Explain with example."
   ]
  },
  {
   "cell_type": "markdown",
   "id": "86c05711-9c9e-48c4-9d44-e992ee64d97e",
   "metadata": {},
   "source": [
    "The try and except block is used to catch and handle exception.When we use try block if in try block any error is occured then except block handle that exception."
   ]
  },
  {
   "cell_type": "code",
   "execution_count": 1,
   "id": "28f08ebe-c1d9-4e30-a387-5603091a5961",
   "metadata": {},
   "outputs": [
    {
     "name": "stdout",
     "output_type": "stream",
     "text": [
      "this is not possible 10/0\n"
     ]
    }
   ],
   "source": [
    "try:\n",
    "    10/0\n",
    "except Exception as e:\n",
    "    print(\"this is not possible 10/0\")"
   ]
  },
  {
   "cell_type": "markdown",
   "id": "85a02c2c-16c1-47b6-a56a-9f2c1e7f5779",
   "metadata": {},
   "source": [
    "Q4.Explain with the example:\n",
    "a) try and else\n",
    "b) finally\n",
    "c) raise"
   ]
  },
  {
   "cell_type": "markdown",
   "id": "1a39e768-1060-475d-a41a-167e5a3d1d40",
   "metadata": {},
   "source": [
    "a) try and else example:"
   ]
  },
  {
   "cell_type": "code",
   "execution_count": 2,
   "id": "6f1b2e55-b981-488a-900f-b34d1ca92269",
   "metadata": {},
   "outputs": [
    {
     "name": "stdout",
     "output_type": "stream",
     "text": [
      "this will execute once your try block will execute without error.\n"
     ]
    }
   ],
   "source": [
    "try:\n",
    "    f = open(\"test.txt\",'w')\n",
    "    f.write(\"write into my file\")\n",
    "except Exception as e:\n",
    "    print(\"this is except block\")\n",
    "else:\n",
    "    f.close()\n",
    "    print(\"this will execute once your try block will execute without error.\")"
   ]
  },
  {
   "cell_type": "markdown",
   "id": "fa35ab44-3e4c-4ca8-82b1-50132a28a220",
   "metadata": {},
   "source": [
    "b)finally"
   ]
  },
  {
   "cell_type": "code",
   "execution_count": 4,
   "id": "8557bcd7-cef0-4a75-aeed-785b41947f56",
   "metadata": {},
   "outputs": [
    {
     "name": "stdout",
     "output_type": "stream",
     "text": [
      "this block executes wheather an exception occures or not.\n"
     ]
    }
   ],
   "source": [
    "try:\n",
    "    f=open(\"test.txt\",'r')\n",
    "    f.read()\n",
    "    f.close()\n",
    "except Exception as e:\n",
    "    print(e)\n",
    "finally:\n",
    "    print(\"this block executes wheather an exception occures or not.\")"
   ]
  },
  {
   "cell_type": "markdown",
   "id": "b8d3451e-876d-423f-90d5-904269a7a6da",
   "metadata": {},
   "source": [
    "c) raise"
   ]
  },
  {
   "cell_type": "code",
   "execution_count": 2,
   "id": "d425d8ac-1d71-40f2-a233-bf6e54e7b383",
   "metadata": {},
   "outputs": [
    {
     "name": "stdin",
     "output_type": "stream",
     "text": [
      "enter your age: 9000\n"
     ]
    },
    {
     "name": "stdout",
     "output_type": "stream",
     "text": [
      "age is too high\n"
     ]
    }
   ],
   "source": [
    "class valid_age(Exception):\n",
    "    def __init__(self,msg):\n",
    "        self.msg = msg\n",
    "def valid_age1(age):\n",
    "    if age<0:\n",
    "        raise valid_age(\"entered msg is negative.\")\n",
    "    elif age>200:\n",
    "            print(\"age is too high\")\n",
    "    else:\n",
    "            print(\"age is valid\")\n",
    "try:\n",
    "    age=int(input(\"enter your age:\"))\n",
    "    valid_age1(age)\n",
    "except Exception as e:\n",
    "    print(e)\n",
    "        "
   ]
  },
  {
   "cell_type": "markdown",
   "id": "05dd4d13-52d4-4062-b5fa-14a76ba0d384",
   "metadata": {},
   "source": [
    "Q.5 What are custom Exception in python? Why we need custom Exception? Explain with an example."
   ]
  },
  {
   "cell_type": "markdown",
   "id": "45a5155e-8e68-41f6-918e-945205ef9958",
   "metadata": {},
   "source": [
    "when we want that system raise an error that time we need custom exception.exa:when user enter age and that is too high or negative that is okay for the system,but for for us that is why we need custom exceptions."
   ]
  },
  {
   "cell_type": "markdown",
   "id": "84b21d5c-5fbb-40cc-90c3-993ee8600be1",
   "metadata": {},
   "source": [
    "custom exception is a user defined exceptions."
   ]
  },
  {
   "cell_type": "markdown",
   "id": "6cd463f2-83c5-4cf8-9cfb-9957dff1e9cd",
   "metadata": {},
   "source": [
    "Q.6 Create a custom class.Use this class to handle the exception."
   ]
  },
  {
   "cell_type": "code",
   "execution_count": 6,
   "id": "c24538eb-20f1-41b9-989c-a4142cec13e9",
   "metadata": {},
   "outputs": [
    {
     "name": "stdin",
     "output_type": "stream",
     "text": [
      "enter your age: 789\n"
     ]
    },
    {
     "name": "stdout",
     "output_type": "stream",
     "text": [
      "age is too high\n"
     ]
    }
   ],
   "source": [
    "class valid_age(Exception):\n",
    "    def __init__(self,msg):\n",
    "        self.msg = msg\n",
    "def valid_age1(age):\n",
    "    if age<0:\n",
    "        raise valid_age(\"entered msg is negative.\")\n",
    "    elif age>200:\n",
    "            print(\"age is too high\")\n",
    "    else:\n",
    "            print(\"age is valid\")\n",
    "try:\n",
    "    age=int(input(\"enter your age:\"))\n",
    "    valid_age1(age)\n",
    "except Exception as e:\n",
    "    print(e)\n",
    "        "
   ]
  },
  {
   "cell_type": "code",
   "execution_count": null,
   "id": "95c8a739-ee80-4f7d-b45c-572489600c3c",
   "metadata": {},
   "outputs": [],
   "source": []
  }
 ],
 "metadata": {
  "kernelspec": {
   "display_name": "Python 3 (ipykernel)",
   "language": "python",
   "name": "python3"
  },
  "language_info": {
   "codemirror_mode": {
    "name": "ipython",
    "version": 3
   },
   "file_extension": ".py",
   "mimetype": "text/x-python",
   "name": "python",
   "nbconvert_exporter": "python",
   "pygments_lexer": "ipython3",
   "version": "3.10.8"
  }
 },
 "nbformat": 4,
 "nbformat_minor": 5
}
